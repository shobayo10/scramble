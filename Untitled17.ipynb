{
 "cells": [
  {
   "cell_type": "code",
   "execution_count": null,
   "metadata": {},
   "outputs": [],
   "source": [
    "import random\n",
    "\n",
    "# cross check guess from words\n",
    "\n",
    "words =open('Oxford_English_Dictionary.txt')\n",
    "words = random.choice('words')\n",
    "correct = words\n",
    "letter_guess = ''\n",
    "words_guess = ''\n",
    "store_word = ''\n",
    "count = 0\n",
    "limit = 5\n",
    "\n",
    "with open('Oxford_English_Dictionary.txt') as words:\n",
    "    \n",
    "    print('Welcome to SCRAMBLE!')\n",
    "    print('player types the word to be checked in Dictionary.')\n",
    "        \n",
    "    \n",
    "    print('let\\'s begin!')\n",
    "    guess=input('input the word')\n",
    "    \n",
    "    input = ('Oxford_English_Dictionary.txt')\n",
    "    play=input\n",
    "open = random.choice(\"Oxford_English_Dictionary.txt\")\n",
    "\n",
    "# if guess matches WORDS\n",
    "if 'guess' == words:\n",
    "     while True:\n",
    "            # user input\n",
    "            answer = input(\"\\n Input the correct word here:\")"
   ]
  },
  {
   "cell_type": "code",
   "execution_count": null,
   "metadata": {},
   "outputs": [],
   "source": []
  },
  {
   "cell_type": "code",
   "execution_count": null,
   "metadata": {},
   "outputs": [],
   "source": []
  }
 ],
 "metadata": {
  "kernelspec": {
   "display_name": "Python 3",
   "language": "python",
   "name": "python3"
  },
  "language_info": {
   "codemirror_mode": {
    "name": "ipython",
    "version": 3
   },
   "file_extension": ".py",
   "mimetype": "text/x-python",
   "name": "python",
   "nbconvert_exporter": "python",
   "pygments_lexer": "ipython3",
   "version": "3.7.3"
  }
 },
 "nbformat": 4,
 "nbformat_minor": 2
}
